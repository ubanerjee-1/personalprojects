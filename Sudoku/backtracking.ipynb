{
 "cells": [
  {
   "cell_type": "markdown",
   "metadata": {},
   "source": [
    "# Backtracking\n",
    "\n",
    "Lets first start with a toy problem to motivate the need for backtracking\n",
    "\n",
    "\n",
    "### Example - Generate Parentheses Pairs\n",
    "\n",
    "Given n pairs of parentheses, write a function to generate all combinations of well-formed parentheses.\n",
    "```\n",
    "input: \n",
    "n=3\n",
    "\n",
    "output:\n",
    "[\n",
    "  \"((()))\",\n",
    "  \"(()())\",\n",
    "  \"(())()\",\n",
    "  \"()(())\",\n",
    "  \"()()()\"\n",
    "]\n",
    "```"
   ]
  },
  {
   "cell_type": "code",
   "execution_count": 58,
   "metadata": {},
   "outputs": [
    {
     "name": "stdout",
     "output_type": "stream",
     "text": [
      "Sample run n=3 ['((()))', '(()())', '(())()', '()(())', '()()()']\n"
     ]
    }
   ],
   "source": [
    "ans = []\n",
    "\n",
    "def generate_parens_bf(n, current = []):\n",
    "    if len(current) == 2*n:\n",
    "        if valid(current):\n",
    "            ans.append(\"\".join(current))\n",
    "    else:\n",
    "        current.append('(')\n",
    "        generate_parens_bf(n, current)\n",
    "        current.pop()\n",
    "        current.append(')')\n",
    "        generate_parens_bf(n, current)\n",
    "        current.pop()\n",
    "\n",
    "def valid(current):\n",
    "    bal = 0\n",
    "    for c in current:\n",
    "        if c == '(': \n",
    "            bal += 1\n",
    "        else: \n",
    "            bal -= 1\n",
    "        if bal < 0: \n",
    "            return False\n",
    "    return bal == 0\n",
    "\n",
    "generate_parens_bf(3)\n",
    "print(\"Sample run n=3\", ans)"
   ]
  },
  {
   "cell_type": "markdown",
   "metadata": {},
   "source": [
    "But this soluiton is really inefficient and doesn't scale with large n.  Even an n of 10 is problematic here. \n",
    "\n",
    "Run time complexity: ```O(n * 2^(2n))```"
   ]
  },
  {
   "cell_type": "markdown",
   "metadata": {},
   "source": [
    "### Backtracking Overview - \n",
    "\n",
    "Pseudo code\n",
    "\n",
    "```\n",
    "def find_solutions(n, other_params) :\n",
    "    if (found a solution):\n",
    "        # Save your solution\n",
    "        solutions_found = solutions_found + 1\n",
    "\n",
    "    for (val = first to last):\n",
    "        if (is_valid(val, n)):\n",
    "            apply_value(val, n)\n",
    "            find_solutions(n+1, other_params)\n",
    "            remove_value(val, n)\n",
    "```            \n"
   ]
  },
  {
   "cell_type": "code",
   "execution_count": 64,
   "metadata": {},
   "outputs": [
    {
     "name": "stdout",
     "output_type": "stream",
     "text": [
      "Sample run n=3 ['((()))', '(()())', '(())()', '()(())', '()()()']\n"
     ]
    }
   ],
   "source": [
    "def generate_parens_bt(n):\n",
    "    ans = []\n",
    "    def backtrack(current = '', left = 0, right = 0):\n",
    "        if len(current) == 2 * n:\n",
    "            ans.append(current)\n",
    "            return\n",
    "        \n",
    "        # For loop part\n",
    "        if left < n: # Is Valid\n",
    "            backtrack(current+'(', left+1, right)\n",
    "        if right < left: # Is valid\n",
    "            backtrack(current+')', left, right+1)\n",
    "\n",
    "    backtrack()\n",
    "    return ans\n",
    "    \n",
    "print(\"Sample run n=3\", generate_parens_bt(3))\n"
   ]
  },
  {
   "cell_type": "markdown",
   "metadata": {},
   "source": [
    "Much better!\n",
    "\n",
    "Runtime complexity: ```O((4^n) / sqrt(n))```\t"
   ]
  },
  {
   "cell_type": "code",
   "execution_count": 65,
   "metadata": {},
   "outputs": [
    {
     "name": "stdout",
     "output_type": "stream",
     "text": [
      "Brute Force\n",
      "923 µs ± 32.6 µs per loop (mean ± std. dev. of 7 runs, 1000 loops each)\n",
      "Backtracking\n",
      "60 µs ± 1.19 µs per loop (mean ± std. dev. of 7 runs, 1000 loops each)\n"
     ]
    }
   ],
   "source": [
    "print(\"Brute Force\")\n",
    "%timeit -n1000 generate_parens_bf(5)\n",
    "print(\"Backtracking\")\n",
    "%timeit -n1000 generate_parens_bt(5)"
   ]
  },
  {
   "cell_type": "code",
   "execution_count": null,
   "metadata": {},
   "outputs": [],
   "source": []
  },
  {
   "cell_type": "code",
   "execution_count": 73,
   "metadata": {},
   "outputs": [],
   "source": [
    "board = [['5', '3', '4', '6', '7', '8', '9', '1', '2'], \n",
    "         ['6', '7', '2', '1', '9', '5', '3', '4', '8'], \n",
    "         ['1', '9', '8', '3', '4', '2', '5', '6', '7'], \n",
    "         ['8', '5', '9', '7', '6', '1', '4', '2', '3'], \n",
    "         ['4', '2', '6', '8', '5', '3', '7', '9', '1'], \n",
    "         ['7', '1', '3', '9', '2', '4', '8', '5', '6'], \n",
    "         ['9', '6', '1', '5', '3', '7', '2', '8', '4'], \n",
    "         ['2', '8', '7', '4', '1', '9', '6', '3', '5'], \n",
    "         ['.', '.', '.', '.', '8', '.', '.', '7', '9']]"
   ]
  },
  {
   "cell_type": "code",
   "execution_count": 74,
   "metadata": {},
   "outputs": [],
   "source": [
    "class Sudoku_Solver:\n",
    "    \n",
    "    def is_valid_subbox(self, board, row, col):\n",
    "        pass\n",
    "    \n",
    "    def is_valid_row(self, board, row):\n",
    "        pass\n",
    "        \n",
    "    def is_valid_col(self, board, col):\n",
    "        pass\n",
    "    \n",
    "    def backtrack(self, board, i=0, j=0):\n",
    "        pass\n",
    "        \n",
    "    \n",
    "    def solve_sudoku(self, board):\n",
    "        self.board = board\n",
    "        return self.board\n"
   ]
  },
  {
   "cell_type": "code",
   "execution_count": 75,
   "metadata": {},
   "outputs": [
    {
     "data": {
      "text/plain": [
       "[['5', '3', '4', '6', '7', '8', '9', '1', '2'],\n",
       " ['6', '7', '2', '1', '9', '5', '3', '4', '8'],\n",
       " ['1', '9', '8', '3', '4', '2', '5', '6', '7'],\n",
       " ['8', '5', '9', '7', '6', '1', '4', '2', '3'],\n",
       " ['4', '2', '6', '8', '5', '3', '7', '9', '1'],\n",
       " ['7', '1', '3', '9', '2', '4', '8', '5', '6'],\n",
       " ['9', '6', '1', '5', '3', '7', '2', '8', '4'],\n",
       " ['2', '8', '7', '4', '1', '9', '6', '3', '5'],\n",
       " ['.', '.', '.', '.', '8', '.', '.', '7', '9']]"
      ]
     },
     "execution_count": 75,
     "metadata": {},
     "output_type": "execute_result"
    }
   ],
   "source": [
    "solver = Sudoku_Solver()\n",
    "solver.solve_sudoku(board)"
   ]
  },
  {
   "cell_type": "code",
   "execution_count": null,
   "metadata": {},
   "outputs": [],
   "source": []
  }
 ],
 "metadata": {
  "kernelspec": {
   "display_name": "Python 3.7.7 64-bit ('kitchen_sink': venv)",
   "language": "python",
   "name": "python37764bitkitchensinkvenv11d0a282e83d4c07b26c446500cb8ddf"
  },
  "language_info": {
   "codemirror_mode": {
    "name": "ipython",
    "version": 3
   },
   "file_extension": ".py",
   "mimetype": "text/x-python",
   "name": "python",
   "nbconvert_exporter": "python",
   "pygments_lexer": "ipython3",
   "version": "3.8.2"
  }
 },
 "nbformat": 4,
 "nbformat_minor": 4
}
